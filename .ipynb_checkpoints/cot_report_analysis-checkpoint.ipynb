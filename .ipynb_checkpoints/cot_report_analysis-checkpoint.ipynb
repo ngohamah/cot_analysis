{
 "cells": [
  {
   "cell_type": "markdown",
   "id": "132e289b-d418-4c21-b38b-19ba7dcf687a",
   "metadata": {},
   "source": [
    "# COT Analysis"
   ]
  },
  {
   "cell_type": "raw",
   "id": "330886e4-d3e1-4b7a-9674-090175ec6502",
   "metadata": {},
   "source": [
    "@author: \n",
    "  Ngoh Rodney Amah\n",
    "@brief:\n",
    "  This notebook will be used for analysis historical COT data.\n",
    "@date: Jan-2024"
   ]
  },
  {
   "cell_type": "markdown",
   "id": "eaea4c08-5027-4214-86f6-5b21f5aff10f",
   "metadata": {},
   "source": [
    "#### Install required packages"
   ]
  },
  {
   "cell_type": "code",
   "execution_count": 1,
   "id": "7d6d491b-b471-41f6-bc17-5503a6e4eeec",
   "metadata": {},
   "outputs": [],
   "source": [
    "# !pip install cot-reports"
   ]
  },
  {
   "cell_type": "code",
   "execution_count": 2,
   "id": "ae3b2a7c-6a92-45ea-8147-4293018ea4ce",
   "metadata": {},
   "outputs": [],
   "source": [
    "import cot_reports as cot\n",
    "import pandas as pd\n",
    "import numpy as np\n",
    "import yfinance as yf\n",
    "import datetime as dt"
   ]
  },
  {
   "cell_type": "markdown",
   "id": "4f87eeb3-cbf6-4821-a09a-215c44d179c6",
   "metadata": {},
   "source": [
    "### Declare important variables for extraction purposes."
   ]
  },
  {
   "cell_type": "code",
   "execution_count": 3,
   "id": "299f1106-6977-4380-b10f-33cd4d63d907",
   "metadata": {},
   "outputs": [],
   "source": [
    "\n",
    "'''\n",
    "special fields for analysing the commitment of traders report\n",
    "'''\n",
    "special_columns = [\n",
    "    \"Market and Exchange Names\", \"As of Date in Form YYYY-MM-DD\", \"Noncommercial Positions-Long (All)\",\n",
    "    \"Noncommercial Positions-Short (All)\" , \"Change in Noncommercial-Long (All)\", \n",
    "    \"Change in Noncommercial-Short (All)\", \"Open Interest (All)\", \"Change in Open Interest (All)\"\n",
    "]\n",
    "\n",
    "\n",
    "'''\n",
    "specific markets and exchanges with varying names matching name \n",
    "changes over the years\n",
    "'''\n",
    "markets_and_exchanges = [ \n",
    "    \"MEXICAN PESO - CHICAGO MERCANTILE EXCHANGE\",\n",
    "    \"MEXICAN PESO - INTERNATIONAL MONETARY MARKET\",\n",
    "    \"JAPANESE YEN - CHICAGO MERCANTILE EXCHANGE\",\n",
    "    \"JAPANESE YEN - INTERNATIONAL MONETARY MARKET\",\n",
    "    \"EURO FX - CHICAGO MERCANTILE EXCHANGE\",\n",
    "    \"EURO FX - INTERNATIONAL MONETARY\",\n",
    "    \"DJIA Consolidated - CHICAGO BOARD OF TRADE\",\n",
    "    \"DOW JONES INDUSTRIAL AVERAGE - CHICAGO BOARD OF TRADE\",\n",
    "    \"NASDAQ-100 Consolidated - CHICAGO MERCANTILE EXCHANGE\",\n",
    "    \"NASDAQ-100 STOCK INDEX - CHICAGO MERCANTILE EXCHANGE\",\n",
    "    \"NASDAQ-100 STOCK INDEX - INTERNATIONAL MONETARY MARKET\",\n",
    "    \"NEW ZEALAND DOLLAR - CHICAGO MERCANTILE EXCHANGE\",\n",
    "    \"NEW ZEALAND DOLLARS - CHICAGO MERCANTILE EXCHANGE\",\n",
    "    \"NEW ZEALAND DOLLARS - INTERNATIONAL MONETARY MARKET\",\n",
    "    \"NZ DOLLAR - CHICAGO MERCANTILE EXCHANGE\",\n",
    "    \"AUSTRALIAN DOLLAR - CHICAGO MERCANTILE EXCHANGE\",\n",
    "    \"AUSTRALIAN DOLLARS - CHICAGO MERCANTILE EXCHANGE\",\n",
    "    \"AUSTRALIAN DOLLARS - INTERNATIONAL MONETARY MARKET\",\n",
    "    \"CANADIAN DOLLAR - CHICAGO MERCANTILE EXCHANGE\",\n",
    "    \"CANADIAN DOLLAR - INTERNATIONAL MONETARY MARKET\",\n",
    "    \"SWISS FRANC - CHICAGO MERCANTILE EXCHANGE\",\n",
    "    \"SWISS FRANC - INTERNATIONAL MONETARY MARKET\",\n",
    "    \"BRITISH POUND STERLING - INTERNATIONAL MONETARY MARKET\",\n",
    "    \"BRITISH POUND STERLING - CHICAGO MERCANTILE EXCHANGE\",\n",
    "    \"POUND STERLING - CHICAGO MERCANTILE EXCHANGE\",\n",
    "    \"POUND STERLING - INTERNATIONAL MONETARY MARKET\",\n",
    "    \"BRITISH POUND - CHICAGO MERCANTILE EXCHANGE\",\n",
    "    \"U.S. DOLLAR INDEX - NEW YORK COTTON EXCHANGE\",\n",
    "    \"U.S. DOLLAR INDEX - ICE FUTURES U.S.\",\n",
    "    \"U.S. DOLLAR INDEX - NEW YORK BOARD OF TRADE\",\n",
    "    \"USD INDEX - ICE FUTURES U.S.\",\n",
    "    \"1000 TROY OUNCE SILVER - CHICAGO BOARD OF TRADE\",\n",
    "    \"SILVER - CHICAGO BOARD OF TRADE\",\n",
    "    \"SILVER, 5000 TROY OZ - CHICAGO BOARD OF TRADE\",\n",
    "    \"SILVER - COMMODITY EXCHANGE INC.\",\n",
    "    \"COPPER - COMMODITY EXCHANGE INC.\",\n",
    "    \"COPPER-GRADE #1 - COMMODITY EXCHANGE INC.\",\n",
    "    \"COPPER- #1 - COMMODITY EXCHANGE INC.\",\n",
    "    \"GOLD, 100 TROY OZ - CHICAGO BOARD OF TRADE\",\n",
    "    \"GOLD - COMMODITY EXCHANGE INC.\",\n",
    "    \"GOLD - INTERNATIONAL MONETARY MARKET\",\n",
    "    \"PLATINUM - NEW YORK MERCANTILE EXCHANGE\",\n",
    "    \"PLATINUM - COMMODITY EXCHANGE INC.\",\n",
    "]\n",
    "\n",
    "'''\n",
    "naming conventions we will adopt\n",
    "'''\n",
    "symbol_names = [\n",
    "    \"MEXICAN PESO\",\n",
    "    \"JAPANESE YEN\",\n",
    "    \"EURO FX\",\n",
    "    \"DJIA Consolidated\",\n",
    "    \"NASDAQ-100\",\n",
    "    \"NEW ZEALAND\",\n",
    "    \"AUSTRALIAN\",\n",
    "    \"CANADIAN DOLLAR\",\n",
    "    \"SWISS FRANC\",\n",
    "    \"POUND\",\n",
    "    \"U.S. DOLLAR INDEX\",\n",
    "    \"SILVER\",\n",
    "    \"COPPER\",\n",
    "    \"GOLD\",\n",
    "    \"PLATINUM\",\n",
    "]"
   ]
  },
  {
   "cell_type": "markdown",
   "id": "525bf49c-da7c-4728-9712-4996e2ea171b",
   "metadata": {},
   "source": [
    "### Get legacy futures from 1986 to 2016 matching the market and exchanges defined above."
   ]
  },
  {
   "cell_type": "code",
   "execution_count": 4,
   "id": "3794c696-7d9f-41db-bd7f-d5a79ef93f70",
   "metadata": {},
   "outputs": [],
   "source": [
    "# code to download and save futures data.\n",
    "# legacy_fut = cot.cot_hist(cot_report_type = \"legacy_fut\", store_txt=True, verbose=True)\n",
    "\n",
    "'''\n",
    "save file to csv in directory to speed up future processing\n",
    "'''\n",
    "# save legacy_fut to csv for easy load next time\n",
    "legacy_fut = pd.read_csv(\"../large files/FUT86_16.txt\", low_memory=False)"
   ]
  },
  {
   "cell_type": "code",
   "execution_count": 5,
   "id": "aba6d032-e614-427e-9303-60b37b53892a",
   "metadata": {},
   "outputs": [],
   "source": [
    "special_fut = legacy_fut[legacy_fut[\"Market and Exchange Names\"].isin(markets_and_exchanges)].sort_values(by=\"Market and Exchange Names\")"
   ]
  },
  {
   "cell_type": "code",
   "execution_count": 6,
   "id": "5e25a003-14f4-41d2-b80f-03aa022714aa",
   "metadata": {},
   "outputs": [
    {
     "data": {
      "text/plain": [
       "19328"
      ]
     },
     "execution_count": 6,
     "metadata": {},
     "output_type": "execute_result"
    }
   ],
   "source": [
    "len(special_fut)"
   ]
  },
  {
   "cell_type": "code",
   "execution_count": 7,
   "id": "78fc5230-955c-4854-a7ab-162a703265dd",
   "metadata": {},
   "outputs": [
    {
     "data": {
      "text/html": [
       "<div>\n",
       "<style scoped>\n",
       "    .dataframe tbody tr th:only-of-type {\n",
       "        vertical-align: middle;\n",
       "    }\n",
       "\n",
       "    .dataframe tbody tr th {\n",
       "        vertical-align: top;\n",
       "    }\n",
       "\n",
       "    .dataframe thead th {\n",
       "        text-align: right;\n",
       "    }\n",
       "</style>\n",
       "<table border=\"1\" class=\"dataframe\">\n",
       "  <thead>\n",
       "    <tr style=\"text-align: right;\">\n",
       "      <th></th>\n",
       "      <th>Market and Exchange Names</th>\n",
       "      <th>As of Date in Form YYMMDD</th>\n",
       "      <th>As of Date in Form YYYY-MM-DD</th>\n",
       "      <th>CFTC Contract Market Code</th>\n",
       "      <th>CFTC Market Code in Initials</th>\n",
       "      <th>CFTC Region Code</th>\n",
       "      <th>CFTC Commodity Code</th>\n",
       "      <th>Open Interest (All)</th>\n",
       "      <th>Noncommercial Positions-Long (All)</th>\n",
       "      <th>Noncommercial Positions-Short (All)</th>\n",
       "      <th>...</th>\n",
       "      <th>Concentration-Gross LT =8 TDR-Long (Other)</th>\n",
       "      <th>Concentration-Gross LT =8 TDR-Short(Other)</th>\n",
       "      <th>Concentration-Net LT =4 TDR-Long (Other)</th>\n",
       "      <th>Concentration-Net LT =4 TDR-Short (Other)</th>\n",
       "      <th>Concentration-Net LT =8 TDR-Long (Other)</th>\n",
       "      <th>Concentration-Net LT =8 TDR-Short (Other)</th>\n",
       "      <th>Contract Units</th>\n",
       "      <th>CFTC Contract Market Code (Quotes)</th>\n",
       "      <th>CFTC Market Code in Initials (Quotes)</th>\n",
       "      <th>CFTC Commodity Code (Quotes)</th>\n",
       "    </tr>\n",
       "  </thead>\n",
       "  <tbody>\n",
       "    <tr>\n",
       "      <th>113176</th>\n",
       "      <td>U.S. DOLLAR INDEX - NEW YORK COTTON EXCHANGE</td>\n",
       "      <td>104</td>\n",
       "      <td>2000-01-04</td>\n",
       "      <td>098662</td>\n",
       "      <td>NYCE</td>\n",
       "      <td>1</td>\n",
       "      <td>98</td>\n",
       "      <td>7609</td>\n",
       "      <td>2203</td>\n",
       "      <td>1967</td>\n",
       "      <td>...</td>\n",
       "      <td>0.0</td>\n",
       "      <td>0.0</td>\n",
       "      <td>0.0</td>\n",
       "      <td>0.0</td>\n",
       "      <td>0.0</td>\n",
       "      <td>0.0</td>\n",
       "      <td>(U.S. DOLLAR INDEX X $1000)</td>\n",
       "      <td>098662</td>\n",
       "      <td>NYCE</td>\n",
       "      <td>98</td>\n",
       "    </tr>\n",
       "    <tr>\n",
       "      <th>113183</th>\n",
       "      <td>U.S. DOLLAR INDEX - NEW YORK COTTON EXCHANGE</td>\n",
       "      <td>991116</td>\n",
       "      <td>1999-11-16</td>\n",
       "      <td>098662</td>\n",
       "      <td>NYCE</td>\n",
       "      <td>1</td>\n",
       "      <td>98</td>\n",
       "      <td>8012</td>\n",
       "      <td>3694</td>\n",
       "      <td>2856</td>\n",
       "      <td>...</td>\n",
       "      <td>97.8</td>\n",
       "      <td>97.8</td>\n",
       "      <td>97.8</td>\n",
       "      <td>97.8</td>\n",
       "      <td>97.8</td>\n",
       "      <td>97.8</td>\n",
       "      <td>(U.S. DOLLAR INDEX X $1000)</td>\n",
       "      <td>098662</td>\n",
       "      <td>NYCE</td>\n",
       "      <td>98</td>\n",
       "    </tr>\n",
       "  </tbody>\n",
       "</table>\n",
       "<p>2 rows × 129 columns</p>\n",
       "</div>"
      ],
      "text/plain": [
       "                           Market and Exchange Names  \\\n",
       "113176  U.S. DOLLAR INDEX - NEW YORK COTTON EXCHANGE   \n",
       "113183  U.S. DOLLAR INDEX - NEW YORK COTTON EXCHANGE   \n",
       "\n",
       "        As of Date in Form YYMMDD As of Date in Form YYYY-MM-DD  \\\n",
       "113176                        104                    2000-01-04   \n",
       "113183                     991116                    1999-11-16   \n",
       "\n",
       "       CFTC Contract Market Code CFTC Market Code in Initials  \\\n",
       "113176                    098662                         NYCE   \n",
       "113183                    098662                         NYCE   \n",
       "\n",
       "        CFTC Region Code  CFTC Commodity Code  Open Interest (All)  \\\n",
       "113176                 1                   98                 7609   \n",
       "113183                 1                   98                 8012   \n",
       "\n",
       "        Noncommercial Positions-Long (All)  \\\n",
       "113176                                2203   \n",
       "113183                                3694   \n",
       "\n",
       "        Noncommercial Positions-Short (All)  ...  \\\n",
       "113176                                 1967  ...   \n",
       "113183                                 2856  ...   \n",
       "\n",
       "        Concentration-Gross LT =8 TDR-Long (Other)  \\\n",
       "113176                                         0.0   \n",
       "113183                                        97.8   \n",
       "\n",
       "        Concentration-Gross LT =8 TDR-Short(Other)  \\\n",
       "113176                                         0.0   \n",
       "113183                                        97.8   \n",
       "\n",
       "        Concentration-Net LT =4 TDR-Long (Other)  \\\n",
       "113176                                       0.0   \n",
       "113183                                      97.8   \n",
       "\n",
       "        Concentration-Net LT =4 TDR-Short (Other)  \\\n",
       "113176                                        0.0   \n",
       "113183                                       97.8   \n",
       "\n",
       "        Concentration-Net LT =8 TDR-Long (Other)  \\\n",
       "113176                                       0.0   \n",
       "113183                                      97.8   \n",
       "\n",
       "        Concentration-Net LT =8 TDR-Short (Other)  \\\n",
       "113176                                        0.0   \n",
       "113183                                       97.8   \n",
       "\n",
       "                     Contract Units  CFTC Contract Market Code (Quotes)  \\\n",
       "113176  (U.S. DOLLAR INDEX X $1000)                              098662   \n",
       "113183  (U.S. DOLLAR INDEX X $1000)                              098662   \n",
       "\n",
       "        CFTC Market Code in Initials (Quotes)  CFTC Commodity Code (Quotes)  \n",
       "113176                                   NYCE                            98  \n",
       "113183                                   NYCE                            98  \n",
       "\n",
       "[2 rows x 129 columns]"
      ]
     },
     "execution_count": 7,
     "metadata": {},
     "output_type": "execute_result"
    }
   ],
   "source": [
    "special_fut.tail(2)"
   ]
  },
  {
   "cell_type": "code",
   "execution_count": 8,
   "id": "de405156-7d99-4606-acb7-e3970bd4548e",
   "metadata": {},
   "outputs": [],
   "source": [
    "# Handle unique case for the DJIA across the entire DataFrame by unifying market and exchange names\n",
    "special_fut[\"Market and Exchange Names\"]= special_fut[\"Market and Exchange Names\"].replace(\n",
    "    {\n",
    "        'DOW JONES INDUSTRIAL AVERAGE - CHICAGO BOARD OF TRADE': 'DJIA Consolidated - CHICAGO BOARD OF TRADE'\n",
    "    }\n",
    ")"
   ]
  },
  {
   "cell_type": "code",
   "execution_count": 9,
   "id": "1d760c68-4780-4ea7-9d7f-8de04a330cdc",
   "metadata": {
    "editable": true,
    "slideshow": {
     "slide_type": ""
    },
    "tags": []
   },
   "outputs": [],
   "source": [
    "for sn in symbol_names:\n",
    "    dfs = []\n",
    "    results = pd.DataFrame()\n",
    "    \n",
    "    # Loop through markets and exchanges and append similar symbols that are similar but with varying names\n",
    "    # as a result of difference in naming over the years.\n",
    "    for mx in markets_and_exchanges: \n",
    "        if sn in mx:\n",
    "            dfs.append(special_fut[special_fut[\"Market and Exchange Names\"]==mx])\n",
    "    \n",
    "    # Loop through the list and concatenate \n",
    "    for df in dfs:\n",
    "        # Concatenate vertically (along rows)\n",
    "        results = pd.concat([results, df], axis=0).sort_values(by=\"As of Date in Form YYYY-MM-DD\", ascending=False)\n",
    "    # Save COT data (special colunmns) of the different symbols in csv.\n",
    "    results[special_columns].to_csv(\"data/\" + sn + \".csv\")"
   ]
  },
  {
   "cell_type": "markdown",
   "id": "3828a4e0-6d37-4c2b-9d3c-33f3b727dd98",
   "metadata": {},
   "source": [
    "### Get data for legacy futures from 2017 to present"
   ]
  },
  {
   "cell_type": "code",
   "execution_count": 10,
   "id": "031686cd-40e8-4a64-a845-c5a3dc544b64",
   "metadata": {},
   "outputs": [
    {
     "data": {
      "text/plain": [
       "array([2017, 2018, 2019, 2020, 2021, 2022, 2023, 2024])"
      ]
     },
     "execution_count": 10,
     "metadata": {},
     "output_type": "execute_result"
    }
   ],
   "source": [
    "years = np.arange(2017,2025,1)\n",
    "years"
   ]
  },
  {
   "cell_type": "markdown",
   "id": "c0276130-1d05-4c3e-af37-511082cf4cec",
   "metadata": {},
   "source": [
    "### Updating old csv files with new data."
   ]
  },
  {
   "cell_type": "code",
   "execution_count": 11,
   "id": "5b006a78-b1c4-44e3-b995-703a250d6eba",
   "metadata": {},
   "outputs": [],
   "source": [
    "def handle_nzusd_usindex_case(dataframe):\n",
    "    dataframe[\"Market and Exchange Names\"]= dataframe[\"Market and Exchange Names\"].replace(\n",
    "        {\n",
    "            'NZ DOLLAR - CHICAGO MERCANTILE EXCHANGE': 'NEW ZEALAND DOLLAR - CHICAGO MERCANTILE EXCHANGE',\n",
    "            'USD INDEX - ICE FUTURES U.S.': 'U.S. DOLLAR INDEX - ICE FUTURES U.S.'\n",
    "        }\n",
    "    )\n",
    "    return dataframe\n",
    "\n",
    "def modify_old_with_new(markets_and_exchanges, symbol_names, dataframe):\n",
    "    '''\n",
    "    markets_and_exchanges - as defined above\n",
    "    symbols_names - as defined above\n",
    "    dataframe - pandas dataframe containing markets_and_exchanges data for a particular year.\n",
    "    '''    \n",
    "    for mx in markets_and_exchanges:\n",
    "        new_df = dataframe[dataframe[\"Market and Exchange Names\"]==mx][special_columns]\n",
    "        for sym in symbol_names:\n",
    "            if sym in mx:\n",
    "                old_df = pd.read_csv(\"data/\"+sym+\".csv\")\n",
    "                merged = pd.concat([old_df, new_df], join='inner', axis=0).sort_values(by=\"As of Date in Form YYYY-MM-DD\", ascending=False)\n",
    "                merged[\"Net Positions\"] = merged[\"Noncommercial Positions-Long (All)\"]-merged[\"Noncommercial Positions-Short (All)\"]\n",
    "                merged[\"Change Net Positions\"] = merged[\"Net Positions\"].diff(-1)\n",
    "                merged.to_csv(\"data/\"+sym+\".csv\")\n",
    "            \n",
    "def update_for_particular_year(year):\n",
    "    '''\n",
    "    year - year we want to carry out update on\n",
    "    '''\n",
    "    legacy_fut_yr = cot.cot_year(year = year, cot_report_type = \"legacy_fut\", store_txt=False, verbose=False)\n",
    "    legacy_fut_yr = legacy_fut_yr[legacy_fut_yr[\"Market and Exchange Names\"].isin(markets_and_exchanges)].sort_values(by=\"Market and Exchange Names\")\n",
    "    modified_legacy_fut_yr = handle_nzusd_usindex_case(legacy_fut_yr)\n",
    "    modify_old_with_new(markets_and_exchanges, symbol_names, modified_legacy_fut_yr)\n",
    "\n",
    "def update_for_multiple_years(years):\n",
    "    for yr in years:\n",
    "       update_for_particular_year(yr)\n",
    "\n",
    "'''\n",
    "uncomment line to run code for several years.\n",
    "'''\n",
    "update_for_multiple_years(years)"
   ]
  },
  {
   "cell_type": "markdown",
   "id": "7d679710-3119-41f2-b2ca-8ca8c3ee8216",
   "metadata": {},
   "source": [
    "### Computing the Open Interest Code for determining price movements for assets"
   ]
  },
  {
   "cell_type": "code",
   "execution_count": 12,
   "id": "eda85355-5018-4ffe-a7be-5d06590127e1",
   "metadata": {},
   "outputs": [
    {
     "data": {
      "text/html": [
       "\n",
       "<table>\n",
       "  <tr>\n",
       "    <th>Price</th>\n",
       "    <th>Open Interest</th>\n",
       "    <th>Interpretation</th>\n",
       "    <th>Signal</th>\n",
       "  </tr>\n",
       "  <tr>\n",
       "    <td>Rising</td>\n",
       "    <td>Rising</td>\n",
       "    <td>Market is Strong(Bullish)</td>\n",
       "    <td>1</td>\n",
       "  </tr>\n",
       "  <tr>\n",
       "    <td>Rising</td>\n",
       "    <td>Falling</td>\n",
       "    <td>Market is weakening(Bullish Reversal)</td>\n",
       "    <td>4</td>\n",
       "  </tr>\n",
       "  <tr>\n",
       "    <td>Falling</td>\n",
       "    <td>Rising</td>\n",
       "    <td>Market is Weak(Bearish)</td>\n",
       "    <td>2</td>\n",
       "  </tr>\n",
       "  <tr>\n",
       "    <td>Falling</td>\n",
       "    <td>Falling</td>\n",
       "    <td>Market is Strengthing (Bearish Reversal)</td>\n",
       "    <td>3</td>\n",
       "  </tr>\n",
       "</table>\n"
      ],
      "text/plain": [
       "<IPython.core.display.HTML object>"
      ]
     },
     "metadata": {},
     "output_type": "display_data"
    }
   ],
   "source": [
    "from IPython.display import display, HTML\n",
    "\n",
    "# Sample Table in HTML\n",
    "table = \"\"\"\n",
    "<table>\n",
    "  <tr>\n",
    "    <th>Price</th>\n",
    "    <th>Open Interest</th>\n",
    "    <th>Interpretation</th>\n",
    "    <th>Signal</th>\n",
    "  </tr>\n",
    "  <tr>\n",
    "    <td>Rising</td>\n",
    "    <td>Rising</td>\n",
    "    <td>Market is Strong(Bullish)</td>\n",
    "    <td>1</td>\n",
    "  </tr>\n",
    "  <tr>\n",
    "    <td>Rising</td>\n",
    "    <td>Falling</td>\n",
    "    <td>Market is weakening(Bullish Reversal)</td>\n",
    "    <td>4</td>\n",
    "  </tr>\n",
    "  <tr>\n",
    "    <td>Falling</td>\n",
    "    <td>Rising</td>\n",
    "    <td>Market is Weak(Bearish)</td>\n",
    "    <td>2</td>\n",
    "  </tr>\n",
    "  <tr>\n",
    "    <td>Falling</td>\n",
    "    <td>Falling</td>\n",
    "    <td>Market is Strengthing (Bearish Reversal)</td>\n",
    "    <td>3</td>\n",
    "  </tr>\n",
    "</table>\n",
    "\"\"\"\n",
    "\n",
    "display(HTML(table))"
   ]
  },
  {
   "cell_type": "code",
   "execution_count": 13,
   "id": "33f4b032-6412-46fe-bcc2-ab87e7303d8e",
   "metadata": {},
   "outputs": [],
   "source": [
    "'''\n",
    "The price of an asset can be deceptive - it doesn't really tell us where it wants to go. \n",
    "So modelling the relationship between price and Open interest can be misleading.\n",
    "\n",
    "Therefore in the above our understanding of price (where price is intented to go) is substituted with the change in Net Positions\n",
    "We therefore model the relations between Change in Net Position (price) and Open Interest.\n",
    "'''\n",
    "def assign_signal_and_interpretation(row):\n",
    "    if row['Change Net Positions'] > 0 and row['Change in Open Interest (All)'] > 0:\n",
    "        return 1, 'Market is Strong (Bullish)'\n",
    "    elif row['Change Net Positions'] > 0 and row['Change in Open Interest (All)'] < 0:\n",
    "        return 4, 'Market is weakening (Bullish Reversal)'\n",
    "    elif row['Change Net Positions'] < 0 and row['Change in Open Interest (All)'] > 0:\n",
    "        return 2, 'Market is Weak (Bearish)'\n",
    "    elif row['Change Net Positions'] < 0 and row['Change in Open Interest (All)'] < 0:\n",
    "        return 3, 'Market is Strengthening (Bearish Reversal)'\n",
    "    else:\n",
    "        return 0, 'No signal'\n",
    "\n"
   ]
  },
  {
   "cell_type": "code",
   "execution_count": 18,
   "id": "930e1d03-9b4a-40dd-8885-992f5bae1edf",
   "metadata": {},
   "outputs": [],
   "source": [
    "symbols_and_tickers = {\n",
    "    \"MEXICAN PESO\": \"MXNUSD=X\",  \n",
    "    \"JAPANESE YEN\": \"USDJPY=X\", \n",
    "    \"EURO FX\": \"EURUSD=X\", \n",
    "    \"DJIA Consolidated\": \"^DJI\", \n",
    "    \"NASDAQ-100\": \"^NDX\", \n",
    "    \"NEW ZEALAND\": \"NZDUSD=X\", \n",
    "    \"AUSTRALIAN\": \"AUDUSD=X\",\n",
    "    \"CANADIAN DOLLAR\":\"CADUSD=X\", \n",
    "    \"SWISS FRANC\": \"USDCHF=X\", \n",
    "    \"POUND\": \"GBPUSD=X\", \n",
    "    \"U.S. DOLLAR INDEX\": \"DX-Y.NYB\", \n",
    "    \"SILVER\": \"SI=F\", \n",
    "    \"COPPER\": \"HG=F\", \n",
    "    \"GOLD\": \"GC=F\",\n",
    "    \"PLATINUM\": \"PL=F\" \n",
    "}"
   ]
  },
  {
   "cell_type": "code",
   "execution_count": 19,
   "id": "2d870cae-b58f-430f-a29e-a185666b128b",
   "metadata": {},
   "outputs": [
    {
     "name": "stderr",
     "output_type": "stream",
     "text": [
      "[*********************100%***********************]  1 of 1 completed\n",
      "\n",
      "1 Failed download:\n",
      "['MXN=X']: JSONDecodeError('Expecting value: line 1 column 1 (char 0)')\n"
     ]
    },
    {
     "name": "stdout",
     "output_type": "stream",
     "text": [
      "(0, 3) (1547, 10)\n"
     ]
    },
    {
     "ename": "ValueError",
     "evalue": "Columns must be same length as key",
     "output_type": "error",
     "traceback": [
      "\u001b[0;31m---------------------------------------------------------------------------\u001b[0m",
      "\u001b[0;31mValueError\u001b[0m                                Traceback (most recent call last)",
      "Cell \u001b[0;32mIn[19], line 69\u001b[0m\n\u001b[1;32m     66\u001b[0m         \u001b[38;5;66;03m# Save the result to a CSV file\u001b[39;00m\n\u001b[1;32m     67\u001b[0m         asset_and_cp\u001b[38;5;241m.\u001b[39mto_csv(\u001b[38;5;124m\"\u001b[39m\u001b[38;5;124msignal/\u001b[39m\u001b[38;5;124m\"\u001b[39m \u001b[38;5;241m+\u001b[39m key \u001b[38;5;241m+\u001b[39m \u001b[38;5;124m\"\u001b[39m\u001b[38;5;124m.csv\u001b[39m\u001b[38;5;124m\"\u001b[39m, index\u001b[38;5;241m=\u001b[39m\u001b[38;5;28;01mFalse\u001b[39;00m)\n\u001b[0;32m---> 69\u001b[0m \u001b[43mperform_oi_code\u001b[49m\u001b[43m(\u001b[49m\u001b[43m)\u001b[49m\n",
      "Cell \u001b[0;32mIn[19], line 60\u001b[0m, in \u001b[0;36mperform_oi_code\u001b[0;34m()\u001b[0m\n\u001b[1;32m     53\u001b[0m asset_and_cp\u001b[38;5;241m.\u001b[39mloc[:, \u001b[38;5;124m'\u001b[39m\u001b[38;5;124mChange in Open Interest (All)\u001b[39m\u001b[38;5;124m'\u001b[39m] \u001b[38;5;241m=\u001b[39m (\n\u001b[1;32m     54\u001b[0m     pd\u001b[38;5;241m.\u001b[39mto_numeric(asset_and_cp[\u001b[38;5;124m'\u001b[39m\u001b[38;5;124mChange in Open Interest (All)\u001b[39m\u001b[38;5;124m'\u001b[39m], errors\u001b[38;5;241m=\u001b[39m\u001b[38;5;124m'\u001b[39m\u001b[38;5;124mcoerce\u001b[39m\u001b[38;5;124m'\u001b[39m)\n\u001b[1;32m     55\u001b[0m     \u001b[38;5;241m.\u001b[39mfillna(\u001b[38;5;241m0\u001b[39m)\n\u001b[1;32m     56\u001b[0m     \u001b[38;5;241m.\u001b[39mastype(\u001b[38;5;28mint\u001b[39m)\n\u001b[1;32m     57\u001b[0m )\n\u001b[1;32m     59\u001b[0m \u001b[38;5;66;03m# Apply the function 2 to each row of the DataFrame and create 'signal' and 'Interpretation' columns\u001b[39;00m\n\u001b[0;32m---> 60\u001b[0m \u001b[43masset_and_cp\u001b[49m\u001b[43m[\u001b[49m\u001b[43m[\u001b[49m\u001b[38;5;124;43m'\u001b[39;49m\u001b[38;5;124;43msignal\u001b[39;49m\u001b[38;5;124;43m'\u001b[39;49m\u001b[43m,\u001b[49m\u001b[43m \u001b[49m\u001b[38;5;124;43m'\u001b[39;49m\u001b[38;5;124;43mInterpretation\u001b[39;49m\u001b[38;5;124;43m'\u001b[39;49m\u001b[43m]\u001b[49m\u001b[43m]\u001b[49m \u001b[38;5;241m=\u001b[39m asset_and_cp\u001b[38;5;241m.\u001b[39mapply(\n\u001b[1;32m     61\u001b[0m     assign_signal_and_interpretation,\n\u001b[1;32m     62\u001b[0m     axis\u001b[38;5;241m=\u001b[39m\u001b[38;5;241m1\u001b[39m,\n\u001b[1;32m     63\u001b[0m     result_type\u001b[38;5;241m=\u001b[39m\u001b[38;5;124m\"\u001b[39m\u001b[38;5;124mexpand\u001b[39m\u001b[38;5;124m\"\u001b[39m\n\u001b[1;32m     64\u001b[0m )\n\u001b[1;32m     66\u001b[0m \u001b[38;5;66;03m# Save the result to a CSV file\u001b[39;00m\n\u001b[1;32m     67\u001b[0m asset_and_cp\u001b[38;5;241m.\u001b[39mto_csv(\u001b[38;5;124m\"\u001b[39m\u001b[38;5;124msignal/\u001b[39m\u001b[38;5;124m\"\u001b[39m \u001b[38;5;241m+\u001b[39m key \u001b[38;5;241m+\u001b[39m \u001b[38;5;124m\"\u001b[39m\u001b[38;5;124m.csv\u001b[39m\u001b[38;5;124m\"\u001b[39m, index\u001b[38;5;241m=\u001b[39m\u001b[38;5;28;01mFalse\u001b[39;00m)\n",
      "File \u001b[0;32m/Library/Frameworks/Python.framework/Versions/3.12/lib/python3.12/site-packages/pandas/core/frame.py:4299\u001b[0m, in \u001b[0;36mDataFrame.__setitem__\u001b[0;34m(self, key, value)\u001b[0m\n\u001b[1;32m   4297\u001b[0m     \u001b[38;5;28mself\u001b[39m\u001b[38;5;241m.\u001b[39m_setitem_frame(key, value)\n\u001b[1;32m   4298\u001b[0m \u001b[38;5;28;01melif\u001b[39;00m \u001b[38;5;28misinstance\u001b[39m(key, (Series, np\u001b[38;5;241m.\u001b[39mndarray, \u001b[38;5;28mlist\u001b[39m, Index)):\n\u001b[0;32m-> 4299\u001b[0m     \u001b[38;5;28;43mself\u001b[39;49m\u001b[38;5;241;43m.\u001b[39;49m\u001b[43m_setitem_array\u001b[49m\u001b[43m(\u001b[49m\u001b[43mkey\u001b[49m\u001b[43m,\u001b[49m\u001b[43m \u001b[49m\u001b[43mvalue\u001b[49m\u001b[43m)\u001b[49m\n\u001b[1;32m   4300\u001b[0m \u001b[38;5;28;01melif\u001b[39;00m \u001b[38;5;28misinstance\u001b[39m(value, DataFrame):\n\u001b[1;32m   4301\u001b[0m     \u001b[38;5;28mself\u001b[39m\u001b[38;5;241m.\u001b[39m_set_item_frame_value(key, value)\n",
      "File \u001b[0;32m/Library/Frameworks/Python.framework/Versions/3.12/lib/python3.12/site-packages/pandas/core/frame.py:4341\u001b[0m, in \u001b[0;36mDataFrame._setitem_array\u001b[0;34m(self, key, value)\u001b[0m\n\u001b[1;32m   4336\u001b[0m \u001b[38;5;28;01melse\u001b[39;00m:\n\u001b[1;32m   4337\u001b[0m     \u001b[38;5;66;03m# Note: unlike self.iloc[:, indexer] = value, this will\u001b[39;00m\n\u001b[1;32m   4338\u001b[0m     \u001b[38;5;66;03m#  never try to overwrite values inplace\u001b[39;00m\n\u001b[1;32m   4340\u001b[0m     \u001b[38;5;28;01mif\u001b[39;00m \u001b[38;5;28misinstance\u001b[39m(value, DataFrame):\n\u001b[0;32m-> 4341\u001b[0m         \u001b[43mcheck_key_length\u001b[49m\u001b[43m(\u001b[49m\u001b[38;5;28;43mself\u001b[39;49m\u001b[38;5;241;43m.\u001b[39;49m\u001b[43mcolumns\u001b[49m\u001b[43m,\u001b[49m\u001b[43m \u001b[49m\u001b[43mkey\u001b[49m\u001b[43m,\u001b[49m\u001b[43m \u001b[49m\u001b[43mvalue\u001b[49m\u001b[43m)\u001b[49m\n\u001b[1;32m   4342\u001b[0m         \u001b[38;5;28;01mfor\u001b[39;00m k1, k2 \u001b[38;5;129;01min\u001b[39;00m \u001b[38;5;28mzip\u001b[39m(key, value\u001b[38;5;241m.\u001b[39mcolumns):\n\u001b[1;32m   4343\u001b[0m             \u001b[38;5;28mself\u001b[39m[k1] \u001b[38;5;241m=\u001b[39m value[k2]\n",
      "File \u001b[0;32m/Library/Frameworks/Python.framework/Versions/3.12/lib/python3.12/site-packages/pandas/core/indexers/utils.py:390\u001b[0m, in \u001b[0;36mcheck_key_length\u001b[0;34m(columns, key, value)\u001b[0m\n\u001b[1;32m    388\u001b[0m \u001b[38;5;28;01mif\u001b[39;00m columns\u001b[38;5;241m.\u001b[39mis_unique:\n\u001b[1;32m    389\u001b[0m     \u001b[38;5;28;01mif\u001b[39;00m \u001b[38;5;28mlen\u001b[39m(value\u001b[38;5;241m.\u001b[39mcolumns) \u001b[38;5;241m!=\u001b[39m \u001b[38;5;28mlen\u001b[39m(key):\n\u001b[0;32m--> 390\u001b[0m         \u001b[38;5;28;01mraise\u001b[39;00m \u001b[38;5;167;01mValueError\u001b[39;00m(\u001b[38;5;124m\"\u001b[39m\u001b[38;5;124mColumns must be same length as key\u001b[39m\u001b[38;5;124m\"\u001b[39m)\n\u001b[1;32m    391\u001b[0m \u001b[38;5;28;01melse\u001b[39;00m:\n\u001b[1;32m    392\u001b[0m     \u001b[38;5;66;03m# Missing keys in columns are represented as -1\u001b[39;00m\n\u001b[1;32m    393\u001b[0m     \u001b[38;5;28;01mif\u001b[39;00m \u001b[38;5;28mlen\u001b[39m(columns\u001b[38;5;241m.\u001b[39mget_indexer_non_unique(key)[\u001b[38;5;241m0\u001b[39m]) \u001b[38;5;241m!=\u001b[39m \u001b[38;5;28mlen\u001b[39m(value\u001b[38;5;241m.\u001b[39mcolumns):\n",
      "\u001b[0;31mValueError\u001b[0m: Columns must be same length as key"
     ]
    }
   ],
   "source": [
    "def toDatetime(dataframe, columnName):\n",
    "    # Use copy to avoid SettingWithCopyWarning \n",
    "    dataframe = dataframe.copy()\n",
    "    \n",
    "    dataframe[columnName] = pd.to_datetime(dataframe[columnName])\n",
    "    return dataframe\n",
    "\n",
    "def getAsset(filename, path=\"data/\"):\n",
    "    '''\n",
    "    filename - asset symbol name dot(.) csv\n",
    "    '''\n",
    "    asset = pd.read_csv(path + filename + \".csv\").drop(columns=\"Unnamed: 0\")\n",
    "    return asset\n",
    "\n",
    "def getSymbolDataYahooFinance(symbolName, s=\"1986-01-01\", i=\"1d\", x=dt.datetime.now()):\n",
    "    return yf.download(\n",
    "        symbolName,\n",
    "        start=s,\n",
    "        end=str(x.year) + \"-\" + str(x.month) + \"-\" + str(x.day),\n",
    "        interval=i\n",
    "    ).reset_index()\n",
    "\n",
    "# Main operations\n",
    "def perform_oi_code():\n",
    "    for key in symbols_and_tickers:\n",
    "        # Fetch data from Yahoo Finance\n",
    "        data = getSymbolDataYahooFinance(symbols_and_tickers[key])\n",
    "        data = data.rename(columns={'Date': 'As of Date in Form YYYY-MM-DD'})\n",
    "\n",
    "        # Convert date column to datetime\n",
    "        new_df = toDatetime(data[['As of Date in Form YYYY-MM-DD', 'Close']], 'As of Date in Form YYYY-MM-DD')\n",
    "\n",
    "        new_df = new_df.copy()\n",
    "        \n",
    "        # Calculate price change: use copy to avoid SettingWithCopyWarning\n",
    "        new_df[\"Change Price\"] = new_df[\"Close\"].diff(-1)\n",
    "        \n",
    "        # Load asset data\n",
    "        asset = toDatetime(getAsset(key), 'As of Date in Form YYYY-MM-DD')\n",
    "\n",
    "        print(new_df.shape, asset.shape)\n",
    "        \n",
    "        # Merge asset data and closing price\n",
    "        # Explicitly specify the merge key and ensure consistent data types\n",
    "        asset_and_cp = pd.merge(\n",
    "            asset, \n",
    "            new_df,\n",
    "            how=\"inner\",\n",
    "            on=\"As of Date in Form YYYY-MM-DD\"\n",
    "        )\n",
    "        \n",
    "        # Replace non-numeric values with NaN, then convert to int\n",
    "        asset_and_cp.loc[:, 'Change in Open Interest (All)'] = (\n",
    "            pd.to_numeric(asset_and_cp['Change in Open Interest (All)'], errors='coerce')\n",
    "            .fillna(0)\n",
    "            .astype(int)\n",
    "        )\n",
    "    \n",
    "        # Apply the function 2 to each row of the DataFrame and create 'signal' and 'Interpretation' columns\n",
    "        asset_and_cp[['signal', 'Interpretation']] = asset_and_cp.apply(\n",
    "            assign_signal_and_interpretation,\n",
    "            axis=1,\n",
    "            result_type=\"expand\"\n",
    "        )\n",
    "        \n",
    "        # Save the result to a CSV file\n",
    "        asset_and_cp.to_csv(\"signal/\" + key + \".csv\", index=False)\n",
    "\n",
    "perform_oi_code()"
   ]
  },
  {
   "cell_type": "markdown",
   "id": "53a9eb67-27b8-4722-ba17-f88a86c2a90a",
   "metadata": {},
   "source": [
    "## Update data for the current year and apply Open interest code"
   ]
  },
  {
   "cell_type": "code",
   "execution_count": null,
   "id": "326bb592-b925-4a1b-b2a9-7e0fb8dad189",
   "metadata": {},
   "outputs": [],
   "source": [
    "update_for_particular_year(2025)\n",
    "perform_oi_code()"
   ]
  },
  {
   "cell_type": "markdown",
   "id": "bc8e6ec3-d576-433a-aad3-51fbbd961ba8",
   "metadata": {},
   "source": [
    "## The End"
   ]
  },
  {
   "cell_type": "markdown",
   "id": "c7374366-2f23-4189-86da-442914a24964",
   "metadata": {
    "editable": true,
    "slideshow": {
     "slide_type": ""
    },
    "tags": []
   },
   "source": [
    "**References**\n",
    "\n",
    "- [COT Reporthttps: //www.investopedia.com/terms/c/cot.asp](https://www.investopedia.com/terms/c/cot.asp)"
   ]
  }
 ],
 "metadata": {
  "kernelspec": {
   "display_name": "Python 3 (ipykernel)",
   "language": "python",
   "name": "python3"
  },
  "language_info": {
   "codemirror_mode": {
    "name": "ipython",
    "version": 3
   },
   "file_extension": ".py",
   "mimetype": "text/x-python",
   "name": "python",
   "nbconvert_exporter": "python",
   "pygments_lexer": "ipython3",
   "version": "3.12.5"
  }
 },
 "nbformat": 4,
 "nbformat_minor": 5
}
